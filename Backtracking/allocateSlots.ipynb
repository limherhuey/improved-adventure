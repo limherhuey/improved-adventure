{
 "cells": [
  {
   "cell_type": "markdown",
   "id": "universal-harvey",
   "metadata": {},
   "source": [
    "# for Meeting Chairpersons 2.0\n",
    "\n",
    "Each Chairperson indicated the dates they are free.\n",
    "This program allocates all Chairpersons to a unique timeslot each."
   ]
  },
  {
   "cell_type": "code",
   "execution_count": null,
   "id": "productive-affair",
   "metadata": {},
   "outputs": [],
   "source": [
    "import pandas as pd"
   ]
  },
  {
   "cell_type": "markdown",
   "id": "smooth-literacy",
   "metadata": {},
   "source": [
    "### 1) Getting the Data"
   ]
  },
  {
   "cell_type": "code",
   "execution_count": null,
   "id": "finnish-gateway",
   "metadata": {
    "scrolled": true
   },
   "outputs": [],
   "source": [
    "data = pd.read_excel('meet.xlsx').fillna('NA')\n",
    "data"
   ]
  },
  {
   "cell_type": "code",
   "execution_count": null,
   "id": "adapted-academy",
   "metadata": {},
   "outputs": [],
   "source": [
    "# dict of clubs' available dates\n",
    "availability = {}"
   ]
  },
  {
   "cell_type": "code",
   "execution_count": null,
   "id": "twelve-infrared",
   "metadata": {},
   "outputs": [],
   "source": [
    "# list of weeks\n",
    "weeks = []\n",
    "for i in range(2, 8):\n",
    "    weeks.append(data.columns[i])\n",
    "weeks"
   ]
  },
  {
   "cell_type": "code",
   "execution_count": null,
   "id": "rising-safety",
   "metadata": {},
   "outputs": [],
   "source": [
    "for idx, row in data.iterrows():\n",
    "    \n",
    "    # each club will have a list of tuples indicating available dates\n",
    "    availability[row[\"Club Name\"]] = []\n",
    "    \n",
    "    for i in range(len(weeks)):\n",
    "        # for weeks that have available day(s)\n",
    "        if row[weeks[i]] != 'NA':\n",
    "            \n",
    "            # add tuple with format (week, day) into list\n",
    "            days = row[weeks[i]].split(\", \")\n",
    "            for day in days:\n",
    "                availability[row[\"Club Name\"]].append((weeks[i], day))"
   ]
  },
  {
   "cell_type": "code",
   "execution_count": null,
   "id": "sustained-ridge",
   "metadata": {},
   "outputs": [],
   "source": [
    "for club in availability:\n",
    "    print(club, \":\", sep=\"\")\n",
    "    print(availability[club])\n",
    "    print()"
   ]
  },
  {
   "cell_type": "markdown",
   "id": "western-manitoba",
   "metadata": {},
   "source": [
    "### 2) Allocating the Timeslots"
   ]
  },
  {
   "cell_type": "code",
   "execution_count": null,
   "id": "actual-dublin",
   "metadata": {},
   "outputs": [],
   "source": [
    "# template name\n",
    "template = data[\"Club Name\"][0]\n",
    "\n",
    "# dict of allocated dates for each club\n",
    "allocated = {}\n",
    "\n",
    "# number of clubs to allocate (-1 because 1 is template free dates)\n",
    "total = len(availability) - 1"
   ]
  },
  {
   "cell_type": "markdown",
   "id": "acute-dairy",
   "metadata": {},
   "source": [
    "#### 2a) First-Come First-Serve Solution"
   ]
  },
  {
   "cell_type": "code",
   "execution_count": null,
   "id": "enormous-chaos",
   "metadata": {},
   "outputs": [],
   "source": [
    "for club in availability:\n",
    "    if club == template:\n",
    "        continue\n",
    "\n",
    "    # find a free date for the club\n",
    "    for date in availability[club]:\n",
    "        if date in availability[template]:\n",
    "            allocated[club] = date\n",
    "            availability[template].remove(date)\n",
    "            break\n",
    "\n",
    "    # flag out club without any compatible free dates\n",
    "    if club not in allocated:\n",
    "        print(club, \"has no compatible free dates.\")"
   ]
  },
  {
   "cell_type": "markdown",
   "id": "altered-copper",
   "metadata": {},
   "source": [
    "#### 2b) Allocate clubs with less availabilities first Solution"
   ]
  },
  {
   "cell_type": "code",
   "execution_count": null,
   "id": "inclusive-uncertainty",
   "metadata": {},
   "outputs": [],
   "source": [
    "# sort clubs from least availabilities to most\n",
    "for club in sorted(availability, key=lambda club: len(availability[club])):\n",
    "    if club == template:\n",
    "        continue\n",
    "\n",
    "    # find a free date for the club\n",
    "    for date in availability[club]:\n",
    "        if date in availability[template]:\n",
    "            allocated[club] = date\n",
    "            availability[template].remove(date)\n",
    "            break\n",
    "\n",
    "    # flag out club without any compatible free dates\n",
    "    if club not in allocated:\n",
    "        print(club, \"has no compatible free dates.\")"
   ]
  },
  {
   "cell_type": "markdown",
   "id": "still-alliance",
   "metadata": {},
   "source": [
    "#### 2c) Backtracking Solution"
   ]
  },
  {
   "cell_type": "code",
   "execution_count": null,
   "id": "viral-biotechnology",
   "metadata": {},
   "outputs": [],
   "source": [
    "def allocate():\n",
    "    # base case: all clubs have been allocated\n",
    "    if len(allocated) == len(availability) - 1:\n",
    "        return True\n",
    "    \n",
    "    for club in availability:\n",
    "        # skip clubs that are allocated a date already\n",
    "        if club in allocated or club == template:\n",
    "            continue\n",
    "        \n",
    "        # find a free date to allocate to the club\n",
    "        for date in availability[club]:\n",
    "            if date in availability[template]:\n",
    "                \n",
    "                # allocate that date to the club & remove from template free dates\n",
    "                allocated[club] = date\n",
    "                availability[template].remove(date)\n",
    "                \n",
    "                # if possible to allocate a date for the next club (and all other clubs), exit function\n",
    "                if allocate():\n",
    "                    return True\n",
    "                \n",
    "                # cannot find a date to allocate to next club\n",
    "                else:\n",
    "                    # backtrack: remove current club's allocation & update template free dates\n",
    "                    allocated.pop(club)\n",
    "                    availability[template].append(date)\n",
    "                    # loop again to try next available date\n",
    "        \n",
    "        # no available dates remaining\n",
    "        return False\n",
    "    \n",
    "    # all clubs have been allocated (this shouldn't run)\n",
    "    return True\n",
    "    \n",
    "    \n",
    "if allocate():\n",
    "    print(\"Allocation done!\")\n",
    "else:\n",
    "    print(\"Some error encountered :(\")"
   ]
  },
  {
   "cell_type": "markdown",
   "id": "imposed-message",
   "metadata": {},
   "source": [
    "### Allocation Results"
   ]
  },
  {
   "cell_type": "code",
   "execution_count": null,
   "id": "european-attack",
   "metadata": {},
   "outputs": [],
   "source": [
    "# print results\n",
    "for club in allocated:\n",
    "    print(club, \": \", allocated[club][1], \", \", allocated[club][0], sep=\"\")"
   ]
  },
  {
   "cell_type": "code",
   "execution_count": null,
   "id": "statutory-ethiopia",
   "metadata": {},
   "outputs": [],
   "source": [
    "# dataframe for better visualisation :D\n",
    "pd.DataFrame(allocated, index=[\"Week\", \"Day\"]).transpose()"
   ]
  },
  {
   "cell_type": "code",
   "execution_count": null,
   "id": "prompt-fields",
   "metadata": {},
   "outputs": [],
   "source": []
  }
 ],
 "metadata": {
  "kernelspec": {
   "display_name": "Python 3",
   "language": "python",
   "name": "python3"
  },
  "language_info": {
   "codemirror_mode": {
    "name": "ipython",
    "version": 3
   },
   "file_extension": ".py",
   "mimetype": "text/x-python",
   "name": "python",
   "nbconvert_exporter": "python",
   "pygments_lexer": "ipython3",
   "version": "3.8.5"
  }
 },
 "nbformat": 4,
 "nbformat_minor": 5
}
